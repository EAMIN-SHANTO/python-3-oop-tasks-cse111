{
  "nbformat": 4,
  "nbformat_minor": 0,
  "metadata": {
    "colab": {
      "provenance": []
    },
    "kernelspec": {
      "name": "python3",
      "display_name": "Python 3"
    },
    "language_info": {
      "name": "python"
    }
  },
  "cells": [
    {
      "cell_type": "code",
      "execution_count": null,
      "metadata": {
        "colab": {
          "base_uri": "https://localhost:8080/"
        },
        "id": "LN4sWtZNB-_r",
        "outputId": "c40bd36e-8a1a-46c0-ed21-76791ea027fb"
      },
      "outputs": [
        {
          "output_type": "stream",
          "name": "stdout",
          "text": [
            "{'color': 'gray,', 'door': 5, 'price': 14000000}\n",
            "The color of bmw is  gray,\n"
          ]
        }
      ],
      "source": [
        "bmw = {'color':'gray,', 'door': 5, \"price\": 14000000}\n",
        "\n",
        "print(bmw)\n"
      ]
    },
    {
      "cell_type": "code",
      "source": [
        "#access key and value\n",
        "bmw = {'color':'gray', 'door': 5, \"price\": 14000000}\n",
        "\n",
        "\n",
        "print(f\"The color of bmw is: {bmw['color']} \\n the price of bmw is:  {bmw['price']}\")"
      ],
      "metadata": {
        "colab": {
          "base_uri": "https://localhost:8080/"
        },
        "id": "2SXBk1GECaTB",
        "outputId": "616d5df5-e2cf-405b-8411-a5521e2d162c"
      },
      "execution_count": null,
      "outputs": [
        {
          "output_type": "stream",
          "name": "stdout",
          "text": [
            "The color of bmw is: gray \n",
            " the price of bmw is:  14000000\n"
          ]
        }
      ]
    },
    {
      "cell_type": "code",
      "source": [
        "#using 'get' function to get values or keys\n",
        "bmw = {'color':'gray', 'door': 5, \"price\": 14000000}\n",
        "bmw.get('door')\n",
        "\n"
      ],
      "metadata": {
        "colab": {
          "base_uri": "https://localhost:8080/"
        },
        "id": "gIzKaJ11E3f4",
        "outputId": "155e84ea-2715-4144-b834-3c74da525294"
      },
      "execution_count": null,
      "outputs": [
        {
          "output_type": "execute_result",
          "data": {
            "text/plain": [
              "5"
            ]
          },
          "metadata": {},
          "execution_count": 23
        }
      ]
    },
    {
      "cell_type": "code",
      "source": [
        "#add new key\n",
        "bmw = {'color':'gray', 'door': 5, \"price\": 14000000}\n",
        "bmw['owner'] = 'EAMIN'\n",
        "print(bmw)"
      ],
      "metadata": {
        "colab": {
          "base_uri": "https://localhost:8080/"
        },
        "id": "g5Frnh30FPY-",
        "outputId": "862bbb92-f419-4d78-930d-f4bf1251f82d"
      },
      "execution_count": null,
      "outputs": [
        {
          "output_type": "stream",
          "name": "stdout",
          "text": [
            "{'color': 'gray', 'door': 5, 'price': 14000000, 'owner': 'EAMIN'}\n"
          ]
        }
      ]
    },
    {
      "cell_type": "code",
      "source": [
        "#print every \"key\" of the dictonary\n",
        "bmw = {'color':'gray', 'door': 5, \"price\": 14000000}\n",
        "bmw['owner'] = 'EAMIN'\n",
        "for i in bmw:\n",
        "  print(i)\n"
      ],
      "metadata": {
        "colab": {
          "base_uri": "https://localhost:8080/"
        },
        "id": "cEorcGWGFywS",
        "outputId": "17c4b53c-2a70-48d7-820b-57c89f17b6ee"
      },
      "execution_count": null,
      "outputs": [
        {
          "output_type": "stream",
          "name": "stdout",
          "text": [
            "color\n",
            "door\n",
            "price\n",
            "owner\n"
          ]
        }
      ]
    },
    {
      "cell_type": "code",
      "source": [
        "#print every \"value\" of the dictonary\n",
        "bmw = {'color':'gray', 'door': 5, \"price\": 14000000}\n",
        "bmw['owner'] = 'EAMIN'\n",
        "for i in bmw:\n",
        "  print(bmw[i])\n"
      ],
      "metadata": {
        "colab": {
          "base_uri": "https://localhost:8080/"
        },
        "id": "-4t6CEEBGLto",
        "outputId": "7ef7706e-b743-49ef-ea21-7d138579515f"
      },
      "execution_count": null,
      "outputs": [
        {
          "output_type": "stream",
          "name": "stdout",
          "text": [
            "gray\n",
            "5\n",
            "14000000\n",
            "EAMIN\n"
          ]
        }
      ]
    },
    {
      "cell_type": "code",
      "source": [
        "#print every value using value function of the dictonary\n",
        "bmw = {'color':'gray', 'door': 5, \"price\": 14000000}\n",
        "bmw['owner'] = 'EAMIN'\n",
        "for i in bmw.values():\n",
        "  print(i)\n"
      ],
      "metadata": {
        "colab": {
          "base_uri": "https://localhost:8080/"
        },
        "id": "6pNqciGiGUGU",
        "outputId": "fd662f2d-d112-42f7-9455-2037f58ef7e2"
      },
      "execution_count": null,
      "outputs": [
        {
          "output_type": "stream",
          "name": "stdout",
          "text": [
            "gray\n",
            "5\n",
            "14000000\n",
            "EAMIN\n"
          ]
        }
      ]
    },
    {
      "cell_type": "code",
      "source": [
        "#print every key using value function of the dictonary\n",
        "bmw = {'color':'gray', 'door': 5, \"price\": 14000000}\n",
        "bmw['owner'] = 'EAMIN'\n",
        "for i in bmw.keys():\n",
        "  print(i)"
      ],
      "metadata": {
        "colab": {
          "base_uri": "https://localhost:8080/"
        },
        "id": "la1VL0tSGnUW",
        "outputId": "d13d6d71-5340-4e1a-f33f-9e3663cae057"
      },
      "execution_count": null,
      "outputs": [
        {
          "output_type": "stream",
          "name": "stdout",
          "text": [
            "color\n",
            "door\n",
            "price\n",
            "owner\n"
          ]
        }
      ]
    },
    {
      "cell_type": "code",
      "source": [
        "#print key and values together using \" .items() \" function\n",
        "bmw = {'color':'gray', 'door': 5, \"price\": 14000000}\n",
        "bmw['owner'] = 'EAMIN'\n",
        "for x,y in bmw.items():\n",
        "  print(x,y)"
      ],
      "metadata": {
        "colab": {
          "base_uri": "https://localhost:8080/"
        },
        "id": "4bE_G-MhG1qm",
        "outputId": "4f36017a-efba-4024-dd8b-f6946fd29ca2"
      },
      "execution_count": null,
      "outputs": [
        {
          "output_type": "stream",
          "name": "stdout",
          "text": [
            "color gray\n",
            "door 5\n",
            "price 14000000\n",
            "owner EAMIN\n"
          ]
        }
      ]
    },
    {
      "cell_type": "code",
      "source": [
        "#how to find sum of a list:\n",
        "lis = [2,3,45]\n",
        "total = 0\n",
        "for i in lis:\n",
        "  total +=i\n",
        "print(total)"
      ],
      "metadata": {
        "colab": {
          "base_uri": "https://localhost:8080/"
        },
        "id": "KZ5QyjMmO3qJ",
        "outputId": "6f1cb84f-df0b-464c-8360-ece0dc7cb6d9"
      },
      "execution_count": null,
      "outputs": [
        {
          "output_type": "stream",
          "name": "stdout",
          "text": [
            "50\n"
          ]
        }
      ]
    },
    {
      "cell_type": "code",
      "source": [
        "#remove an item form the dictonary  by using pop()\n",
        "bmw = {'color':'gray', 'door': 5, \"price\": 14000000}\n",
        "bmw['owner'] = 'EAMIN'\n",
        "bmw.pop('door')\n",
        "print(bmw)"
      ],
      "metadata": {
        "colab": {
          "base_uri": "https://localhost:8080/"
        },
        "id": "M6CxHmOKHVif",
        "outputId": "ea04c4b3-58f5-4872-d96b-99d7eaa2ffe9"
      },
      "execution_count": null,
      "outputs": [
        {
          "output_type": "stream",
          "name": "stdout",
          "text": [
            "{'color': 'gray', 'price': 14000000, 'owner': 'EAMIN'}\n"
          ]
        }
      ]
    },
    {
      "cell_type": "markdown",
      "source": [
        "DICTONATY  from user input"
      ],
      "metadata": {
        "id": "fs2VBIciHrEh"
      }
    },
    {
      "cell_type": "code",
      "source": [
        "#quiz3 dixtonary input  \n",
        "dic= {}\n",
        "order_input = input(\"Enter your order: \")\n",
        "order_input = order_input.split(',')\n",
        "\n",
        "for i in order_input:\n",
        "    quantity, types = i.split(\"x\")\n",
        "    quantity = int(quantity)\n",
        "    print(f'BUrger:{types}, Quantity: {quantity}')"
      ],
      "metadata": {
        "colab": {
          "base_uri": "https://localhost:8080/"
        },
        "id": "ChF2oyr9Hu4I",
        "outputId": "3cd5524e-92d9-4084-d0d5-af96f670323d"
      },
      "execution_count": null,
      "outputs": [
        {
          "output_type": "stream",
          "name": "stdout",
          "text": [
            "Enter your order: 2xnaga,3xsp\n",
            "BUrger:sp, Quantity: 3\n"
          ]
        }
      ]
    },
    {
      "cell_type": "code",
      "source": [
        "#take input form the user and make dictonary\n",
        "dic= {}\n",
        "lim = int(input(\"enter the limit: \"))\n",
        "for i in range(lim):\n",
        "    key = input(\"enter key\")\n",
        "    value = input(\"enter value\")\n",
        "    dic[key] = value\n",
        "\n",
        "print(dic)"
      ],
      "metadata": {
        "colab": {
          "base_uri": "https://localhost:8080/"
        },
        "id": "ZUepakBEsCPl",
        "outputId": "532daf13-6e7b-4c57-ca9e-2c2d31c41764"
      },
      "execution_count": null,
      "outputs": [
        {
          "output_type": "stream",
          "name": "stdout",
          "text": [
            "enter the limit: 2\n",
            "enter keycar\n",
            "enter valuebmw\n",
            "enter keyprice\n",
            "enter value4000000\n",
            "{'car': 'bmw', 'price': '4000000'}\n"
          ]
        }
      ]
    },
    {
      "cell_type": "code",
      "source": [
        "dic = {}\n",
        "val  = input(\"enter the names\")\n",
        "for i in val:\n",
        "  key,value = val.split(\"x\")\n",
        "\n",
        "print(\"first name:\", key)\n",
        "print(\"last name:\", value)\n"
      ],
      "metadata": {
        "colab": {
          "base_uri": "https://localhost:8080/"
        },
        "id": "sM7yaKOKstDx",
        "outputId": "df486e1b-fd64-405e-a57e-3f3c3e6c6081"
      },
      "execution_count": null,
      "outputs": [
        {
          "output_type": "stream",
          "name": "stdout",
          "text": [
            "enter the nameseaminxshanto\n",
            "first name: eamin\n",
            "last name: shanto\n"
          ]
        }
      ]
    },
    {
      "cell_type": "code",
      "source": [
        "# from '3xspicy' to  type : spicy , quantity = 3\n",
        "dic= {}\n",
        "order_input = input(\"Enter your order: \")\n",
        "\n",
        "order_input = order_input.split(\"x\")\n",
        "for i in (order_input):\n",
        "   # order_input.split(\"x\")\n",
        "    \n",
        "    quantity = order_input[0]\n",
        "    quantity = int(quantity)\n",
        "    types = order_input[1]\n",
        "    dic[quantity] = types\n",
        "print(f'BUrger:{types}, Quantity: {quantity}')"
      ],
      "metadata": {
        "colab": {
          "base_uri": "https://localhost:8080/"
        },
        "id": "v-xsT3ETuyR3",
        "outputId": "3f8370b3-6bc6-4792-c0d2-dd56143aa3d8"
      },
      "execution_count": null,
      "outputs": [
        {
          "output_type": "stream",
          "name": "stdout",
          "text": [
            "Enter your order: 3xspicy\n",
            "BUrger:spicy, Quantity: 3\n"
          ]
        }
      ]
    },
    {
      "cell_type": "code",
      "source": [
        "#creat a dictonary\n",
        "\n",
        "dic= {}\n",
        "\n",
        "inp_range= int(input(\"enter range: \"))\n",
        "for i in range(inp_range):\n",
        "  key = input(\"enter key: \")\n",
        "  values = input(\"enter values: \")\n",
        "  dic[key] =values\n",
        "print(dic)"
      ],
      "metadata": {
        "colab": {
          "base_uri": "https://localhost:8080/"
        },
        "id": "CeQql88IylP3",
        "outputId": "328040b7-8abb-4dbc-ccb0-14c83b3290bd"
      },
      "execution_count": null,
      "outputs": [
        {
          "output_type": "stream",
          "name": "stdout",
          "text": [
            "enter range: 3\n",
            "enter key: bmw\n",
            "enter values: z class\n",
            "enter key: audi\n",
            "enter values: q8\n",
            "enter key: marcides\n",
            "enter values: s class\n",
            "{'bmw': 'z class', 'audi': 'q8', 'marcides': 's class'}\n"
          ]
        }
      ]
    },
    {
      "cell_type": "code",
      "source": [
        "#merge 2 diconaries:\n",
        "dict1 = {'w': 50, 'x': 100, 'y': 'Green', 'z': 400}\n",
        "dict2 = {'x': 300, 'y': 'Red', 'z': 600}\n",
        "dict3= {}\n",
        "dict3.update(dict1)\n",
        "dict3.update(dict2)\n",
        "\n",
        "print(dict3)"
      ],
      "metadata": {
        "colab": {
          "base_uri": "https://localhost:8080/"
        },
        "id": "abfkScqS06bd",
        "outputId": "c337ff45-816e-4173-cd06-2f090d6bc434"
      },
      "execution_count": null,
      "outputs": [
        {
          "output_type": "stream",
          "name": "stdout",
          "text": [
            "{'w': 50, 'x': 300, 'y': 'Red', 'z': 600}\n"
          ]
        }
      ]
    },
    {
      "cell_type": "code",
      "source": [
        "#how to merge 2 dictonaries having same key:\n",
        "dic1 = {'a':100, 'b':200, 'c':300}\n",
        "\n",
        "dic2 = {'a':1030, 'b':2300, 'c':3300}\n",
        "\n",
        "for key in dic1:\n",
        "    if key in dic2:\n",
        "        dic2[key]= dic1[key]+dic2[key]\n",
        "    else:\n",
        "        dic2[key] = dic1[key]\n",
        "\n",
        "print(dic2)\n"
      ],
      "metadata": {
        "colab": {
          "base_uri": "https://localhost:8080/"
        },
        "id": "75iU-B335pAK",
        "outputId": "b2c5c2b0-5032-45f0-9d27-fc533c9c4aa2"
      },
      "execution_count": null,
      "outputs": [
        {
          "output_type": "stream",
          "name": "stdout",
          "text": [
            "{'a': 1130, 'b': 2500, 'c': 3600}\n"
          ]
        }
      ]
    },
    {
      "cell_type": "code",
      "source": [
        "#dictonary with multiple value in a same key\n",
        "num  = int(input(\"Enter range: \"))\n",
        "student={}\n",
        "for i in range(num):\n",
        "   \n",
        "    name = input(\"enter name: \")\n",
        "    math = input(\"enter marks: \")\n",
        "    phy = input(\"enter marks: \")\n",
        "    student[name] = math,phy # will became in a list\n",
        "print(student)"
      ],
      "metadata": {
        "colab": {
          "base_uri": "https://localhost:8080/"
        },
        "id": "NG1TL0i88icC",
        "outputId": "6ecc5637-c976-408f-b3b6-547912e2d2ae"
      },
      "execution_count": null,
      "outputs": [
        {
          "output_type": "stream",
          "name": "stdout",
          "text": [
            "Enter range: 2\n",
            "enter name: a\n",
            "enter marks: 100\n",
            "enter marks: 90\n",
            "enter name: b\n",
            "enter marks: red\n",
            "enter marks: blue\n",
            "{'a': ('100', '90'), 'b': ('red', 'blue')}\n"
          ]
        }
      ]
    },
    {
      "cell_type": "code",
      "source": [
        "#dictonary with multiple value in a same key\n",
        "num  = int(input(\"Enter range: \"))\n",
        "student={}\n",
        "for i in range(num):\n",
        "   \n",
        "    name = input(\"enter name: \")\n",
        "    math = input(\"enter marks: \")\n",
        "    phy = input(\"enter marks: \")\n",
        "    student[name] = [math,phy]\n",
        "print(student)"
      ],
      "metadata": {
        "colab": {
          "base_uri": "https://localhost:8080/"
        },
        "id": "3tvI80Tz9XZx",
        "outputId": "52859d18-8b30-444e-cb9f-a97d056e45c9"
      },
      "execution_count": null,
      "outputs": [
        {
          "output_type": "stream",
          "name": "stdout",
          "text": [
            "Enter range: 2\n",
            "enter name: a\n",
            "enter marks: 88\n",
            "enter marks: 87\n",
            "enter name: b\n",
            "enter marks: 78\n",
            "enter marks: 87\n",
            "{'a': ['88', '87'], 'b': ['78', '87']}\n"
          ]
        }
      ]
    },
    {
      "cell_type": "code",
      "source": [
        "\n",
        "#Given dictionaries1:\n",
        "#dict1 = {'w': 50, 'x': 100, 'y': 'Green', 'z': 400}\n",
        "#dict2 = {'x': 300, 'y': 'Red', 'z': 600}\n",
        "#Sample Output1:\n",
        "#{'w': [50], 'x': [100, 300], 'y': ['Green', 'Red'], 'z': [400, 600]}\n",
        "\n",
        "\n",
        "dict1 = {'w': 50, 'x': 100, 'y': 'Green', 'z': 400}\n",
        "dict2 = {'x': 300, 'y': 'Red', 'z': 600}\n",
        "\n",
        "a ={}\n",
        "for i,j in dict1.items():\n",
        "  a[i] = [j]\n",
        "for i,j in dict2.items():\n",
        "  a[i].append(j)\n",
        "\n",
        "print(a)\n"
      ],
      "metadata": {
        "colab": {
          "base_uri": "https://localhost:8080/"
        },
        "id": "Zbmn8H2YzpN-",
        "outputId": "763db9a3-938c-4aa4-c3a9-8668376900b1"
      },
      "execution_count": null,
      "outputs": [
        {
          "output_type": "stream",
          "name": "stdout",
          "text": [
            "{'w': [50], 'x': [100, 300], 'y': ['Green', 'Red'], 'z': [400, 600]}\n"
          ]
        }
      ]
    },
    {
      "cell_type": "code",
      "source": [
        "\n",
        "dict1 = {'w': 50, 'y': 'Green', 'z': 400}\n",
        "dict2 = { 'y': 'Red', 'a':200, 'b':4, 'z': 600}\n",
        "\n",
        "c={}\n",
        "for key in dic1:\n",
        "    if key in dic2:\n",
        "        c[key]= dic1[key]+dic2[key]\n",
        "    else:\n",
        "        c[key] = dic1[key]\n",
        "\n",
        "\n",
        "print(c)\n"
      ],
      "metadata": {
        "colab": {
          "base_uri": "https://localhost:8080/"
        },
        "id": "p8SlUBN02kqO",
        "outputId": "4986939c-f91a-4eae-f3b6-0c77af2b4a01"
      },
      "execution_count": null,
      "outputs": [
        {
          "output_type": "stream",
          "name": "stdout",
          "text": [
            "{'a': 1130, 'b': 2500, 'c': 3600}\n"
          ]
        }
      ]
    },
    {
      "cell_type": "code",
      "source": [
        "#how to merge 2 dictonaries having same key:\n",
        "dic1 = {'a':100, 'b':200, 'c':300}\n",
        "\n",
        "dic2 = {'a':1030, 'b':2300, 'c':3300}\n",
        "c ={}\n",
        "for key in dic1:\n",
        "    if key in dic2:\n",
        "        c[key]= dic1[key]+dic2[key]\n",
        "    else:\n",
        "        c[key] = dic1[key]\n",
        "\n",
        "print(c)\n"
      ],
      "metadata": {
        "colab": {
          "base_uri": "https://localhost:8080/"
        },
        "id": "lKdI_l4o7Y31",
        "outputId": "fe9eec00-0209-4311-d939-6bd840e61cf7"
      },
      "execution_count": null,
      "outputs": [
        {
          "output_type": "stream",
          "name": "stdout",
          "text": [
            "{'a': 1130, 'b': 2500, 'c': 3600}\n"
          ]
        }
      ]
    },
    {
      "cell_type": "code",
      "source": [],
      "metadata": {
        "id": "P3uv3UfxKdZu"
      },
      "execution_count": null,
      "outputs": []
    },
    {
      "cell_type": "code",
      "source": [
        "#given_dict = { \"Normal Skills\":[10,15,20], \"Ultimate Skill\":50 }\n",
        "given_dict = { \"Normal Skills\":[10,10,10], \"Ultimate Skill\":30 }\n",
        "x= []\n",
        "for i in given_dict.values():\n",
        "  x.append(i)\n",
        "#print(x)\n",
        "#print(x[0])\n",
        "total = 0\n",
        "for i in x[0]:\n",
        "  total += i\n",
        "#print(total)\n",
        "\n",
        "z = x[1]\n",
        "sum  = total + z\n",
        "print('Additive Damage Score is', sum)\n",
        "if sum <= 70:\n",
        "  print(\"the agent’s name is “Rage”.\")\n",
        "elif sum > 70 and sum <=100:\n",
        "  print(\" then the agent’s name is “Jett”.\")\n",
        "else:\n",
        "  print(\"the agent’s name is “Sage”\")\n",
        "  \n",
        "\n"
      ],
      "metadata": {
        "colab": {
          "base_uri": "https://localhost:8080/"
        },
        "id": "xUvDqT8WKYjd",
        "outputId": "5af30b59-0f5e-40bc-c212-2ff85f808431"
      },
      "execution_count": null,
      "outputs": [
        {
          "output_type": "stream",
          "name": "stdout",
          "text": [
            "Additive Damage Score is 60\n",
            "the agent’s name is “Rage”.\n"
          ]
        }
      ]
    },
    {
      "cell_type": "code",
      "source": [
        "given_dict = { \"Normal Skills\":[10,10,10], \"Ultimate Skill\":30 }\n",
        "x= []\n",
        "for i in given_dict.values():\n",
        "  x.append(i)\n",
        "\n",
        "total = 0\n",
        "for i in x[0]:\n",
        "  total += i\n",
        "\n",
        "z = x[1]\n",
        "sum  = total + z\n",
        "print('Additive Damage Score is', sum)\n",
        "if sum <= 70:\n",
        "  print(\"the agent’s name is “Rage”.\")\n",
        "elif sum > 70 and sum <=100:\n",
        "  print(\" then the agent’s name is “Jett”.\")\n",
        "else:\n",
        "  print(\"the agent’s name is “Sage”\")\n",
        "  \n",
        "\n",
        "\n",
        "\n"
      ],
      "metadata": {
        "colab": {
          "base_uri": "https://localhost:8080/"
        },
        "id": "LSDQk6pvQzys",
        "outputId": "c94a2249-3e53-4ca8-a8e9-f804b77b0593"
      },
      "execution_count": null,
      "outputs": [
        {
          "output_type": "stream",
          "name": "stdout",
          "text": [
            "Additive Damage Score is 60\n",
            "the agent’s name is “Rage”.\n"
          ]
        }
      ]
    },
    {
      "cell_type": "code",
      "source": [
        "given_dict = { \"Normal Skills\":[10,12,14], \"Ultimate Skill\":[11,12,56] }\n",
        "x= []\n",
        "for i in given_dict.values():\n",
        "  x.append(i)\n",
        "print(x)\n",
        "print(x[1])\n",
        "z= x[1]\n",
        "total =0\n",
        "for i in z:\n",
        "  total +=i\n",
        "print(total)"
      ],
      "metadata": {
        "colab": {
          "base_uri": "https://localhost:8080/"
        },
        "id": "ZRlKnSFJTmmK",
        "outputId": "7851eaf6-17ef-4b24-8430-37a940f2fafd"
      },
      "execution_count": null,
      "outputs": [
        {
          "output_type": "stream",
          "name": "stdout",
          "text": [
            "[[10, 12, 14], [11, 12, 56]]\n",
            "[11, 12, 56]\n",
            "79\n"
          ]
        }
      ]
    },
    {
      "cell_type": "code",
      "source": [
        "given_dict = { \"Normal Skills\":[10,10,10], \"Ultimate Skill\":30 }\n",
        "x = []\n",
        "for i in given_dict.values():\n",
        "  x.append(i)\n",
        "tot1=0\n",
        "for i in x[0]:\n",
        "  tot1+=i\n",
        "sum= tot1 +x[1]\n",
        "\n",
        "print('Additive Damage Score is', sum)\n",
        "if sum <= 70:\n",
        "  print(\"the agent’s name is “Rage”.\")\n",
        "elif sum > 70 and sum <=100:\n",
        "  print(\" then the agent’s name is “Jett”.\")\n",
        "else:\n",
        "  print(\"the agent’s name is “Sage”\")\n",
        "  \n",
        "\n",
        "\n"
      ],
      "metadata": {
        "colab": {
          "base_uri": "https://localhost:8080/"
        },
        "id": "Vwl3CYSMWHe4",
        "outputId": "4f4b7021-1ff9-4f7e-9826-2460a8236957"
      },
      "execution_count": null,
      "outputs": [
        {
          "output_type": "stream",
          "name": "stdout",
          "text": [
            "Additive Damage Score is 60\n",
            "the agent’s name is “Rage”.\n"
          ]
        }
      ]
    },
    {
      "cell_type": "code",
      "source": [
        "\n",
        "dict_1 = {\"N\":(4,9,3),\"k\":[95,37,197],\"F\":(32,5,97),\"s\":[31,94,55]}\n",
        "#print(dict_1.values())\n",
        "z=[]\n",
        "for i in dict_1.values():\n",
        "  z.append(i)\n",
        "li1 =[]\n",
        "for i in z[0]:\n",
        "  li1.append(i)\n",
        "print(li1)\n",
        "prime =[]\n",
        "for i in li1:\n",
        "  c=0\n",
        "  for j in range(1,i):\n",
        "    if i%j ==0:\n",
        "      c+=1\n",
        "  if c==1:\n",
        "    prime.append(i)\n",
        "print(prime)\n",
        "\n"
      ],
      "metadata": {
        "colab": {
          "base_uri": "https://localhost:8080/"
        },
        "id": "_hDpTsZBXAVq",
        "outputId": "30e55540-2a42-4ffd-a3b7-ce46ebe730df"
      },
      "execution_count": null,
      "outputs": [
        {
          "output_type": "stream",
          "name": "stdout",
          "text": [
            "[4, 9, 3]\n",
            "[3]\n"
          ]
        }
      ]
    },
    {
      "cell_type": "code",
      "source": [
        "#example task assignemtn 23 cse111 fall 22\n",
        "\n",
        "\n",
        "class Author:\n",
        "    def __init__(self, name=\"none\"):\n",
        "\n",
        "        self.name = name\n",
        "\n",
        "        self.dict={}\n",
        "\n",
        "        self.c = 0\n",
        "\n",
        "    def addBook(self, book, genre):\n",
        "        if self.name ==\"none\":\n",
        "            print(\"A book can not be added without author name\")\n",
        "        self.book = book\n",
        "        self.genre= genre\n",
        "        if self.genre not in self.dict:\n",
        "            self.dict[self.genre]= [self.book]\n",
        "            self.c+=1\n",
        "        else:\n",
        "            if self.book not in self.dict[self.genre]:\n",
        "                self.dict[self.genre].append(self.book)\n",
        "                self.c+=1\n",
        "\n",
        "\n",
        "    def setName(self, name):\n",
        "        self.name = name\n",
        "\n",
        "    def printDetail(self):\n",
        "        print(f\"Number of book(s):{self.c}\")\n",
        "        print(f\"Auhtor name {self.name}\")\n",
        "        for j, k in self.dict.items():\n",
        "            print(f\"{j}:{','.join(k)}\")\n",
        "\n",
        "\n",
        "\n",
        "\n",
        "a1 = Author()\n",
        "print(\"=================================\")\n",
        "a1.addBook(\"Ice\", \"Science Fiction\")\n",
        "print(\"=================================\")\n",
        "a1.setName(\"Anna Kavan\")\n",
        "a1.addBook(\"Ice\", \"Science Fiction\")\n",
        "a1.printDetail()\n",
        "print(\"=================================\")\n",
        "a2 = Author(\"Humayun Ahmed\")\n",
        "a2.addBook(\"Onnobhubon\", \"Science Fiction\")\n",
        "a2.addBook(\"Megher Upor Bari\", \"Horror\")\n",
        "print(\"=================================\")\n",
        "a2.printDetail()\n",
        "a2.addBook(\"Ireena\", \"Science Fiction\")\n",
        "print(\"=================================\")\n",
        "a2.printDetail()\n",
        "print(\"=================================\")\n"
      ],
      "metadata": {
        "id": "vnc4xEW_PBkB"
      },
      "execution_count": null,
      "outputs": []
    },
    {
      "cell_type": "code",
      "source": [
        "# Write your code here\n",
        "\n",
        "class Hotel:\n",
        "    def __init__(self,hname):\n",
        "        self.hname  = hname\n",
        "        self.staffID  = 0\n",
        "        self.guestID = 0\n",
        "        self.staffinifo ={}\n",
        "        self.guestinfo = {}\n",
        "\n",
        "\n",
        "    def addStuff(self, staffName, staffAge):\n",
        "        self.staffID +=1\n",
        "        self.staffName =  staffName\n",
        "        self.staffAge = staffAge\n",
        "        if self.staffID not in self.staffinifo:\n",
        "            self.staffinifo[self.staffID] = [self.staffName]+[self.staffAge]\n",
        "\n",
        "\n",
        "\n",
        "    def getStuffById(self,staffid):\n",
        "        self.staffID =staffid\n",
        "        for j,k in self.staffinifo.items():\n",
        "            print(f\"Number of staff: {j}\")\n",
        "            print(f\"Name:{k[0]}\")\n",
        "            print(f\"Age: {k[1]}\")\n",
        "            print(f\"Phone no:{'000'}\")\n",
        "\n",
        "\n",
        "    def addGuest(self,gustName, guestAge, guestPhone):\n",
        "        self.gustName =gustName\n",
        "        self.guestAge =guestAge\n",
        "        self.guestPhone =guestPhone\n",
        "        self.guestID +=1\n",
        "        if self.guestID not in self.guestinfo:\n",
        "            self.guestinfo[self.guestID] =[self.gustName]+[self.guestAge]+[self.guestPhone]\n",
        "\n",
        "\n",
        "    def getGuestById(self,guestid):\n",
        "        self.guestID=guestid\n",
        "        for j,k in self.guestinfo.items():\n",
        "            print(f\"Number of Guest: {j}\")\n",
        "            print(f\"Name:{k[0]}\")\n",
        "            print(f\"Age: {k[1]}\")\n",
        "            print(f\"Phone: {k[2]}\")\n",
        "\n",
        "    def allStaffs(self):\n",
        "        print(\"All staffs:\")\n",
        "        print(f\"Number of staff: {self.staffID}\")\n",
        "        for j,k in self.staffinifo.items():\n",
        "            print(f\"Staff ID:{j} Name: {k[0]} Age: {k[1]} Phone no: {k[2]}\")\n",
        "\n",
        "    def allGuest(self):\n",
        "        print(\"all Guest\")\n",
        "        print(f\"Number of Guest: {self.guestID}\")\n",
        "        for i in range(self.guestID):\n",
        "            for j,k in self.guestinfo.items():\n",
        "                print(f\"guest ID:{j} Name: {k[0]} Age: {k[1]} Phone no: {k[2]}\")\n",
        "\n",
        "\n",
        "\n",
        "# Do not change the following lines of code.\n",
        "h = Hotel(\"Lakeshore\")\n",
        "h.addStuff(\"Adam\", 26)\n",
        "print(\"=================================\")\n",
        "print(h.getStuffById(1))\n",
        "print(\"=================================\")\n",
        "h.addGuest(\"Carol\",35,\"123\")\n",
        "print(\"=================================\")\n",
        "print(h.getGuestById(1))\n",
        "print(\"=================================\")\n",
        "h.addGuest(\"Diana\", 32, \"431\")\n",
        "print(\"=================================\")\n",
        "print(h.getGuestById(2))\n",
        "print(\"=================================\")\n",
        "h.allStaffs()\n",
        "print(\"=================================\")\n",
        "h.allGuest()\n"
      ],
      "metadata": {
        "id": "_YIuv6jG4OHT"
      },
      "execution_count": null,
      "outputs": []
    }
  ]
}